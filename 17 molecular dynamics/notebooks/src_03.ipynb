{
 "cells": [
  {
   "cell_type": "markdown",
   "id": "4581a0cc",
   "metadata": {},
   "source": [
    "# main\n",
    "\n",
    "Now I have dipole-dipole interactions, and I wanted to play with them. I rotate a $\\mathbf{B}$ field around the $y$ axis, and set two particles on the $x$ axis. I expect to see them vibrate."
   ]
  },
  {
   "cell_type": "code",
   "execution_count": 1,
   "id": "4d4e3602",
   "metadata": {},
   "outputs": [],
   "source": [
    "import numpy as np\n",
    "import matplotlib as mpl\n",
    "import matplotlib.pyplot as plt\n",
    "import pandas as pd\n",
    "import copy\n",
    "import auxiliary as aux\n",
    "\n",
    "mpl.rc(\"figure\", dpi=150)\n",
    "mpl.rc(\"figure\", figsize=(4,4))\n",
    "\n",
    "plt.rcParams.update({\n",
    "    \"pgf.texsystem\": \"pdflatex\",\n",
    "    'font.family': 'serif',\n",
    "    'text.usetex': True,\n",
    "    'pgf.rcfonts': False,\n",
    "    'xtick.labelsize':15,\n",
    "    'ytick.labelsize':15,\n",
    "    'axes.labelsize':20,\n",
    "})\n",
    "\n",
    "import os\n",
    "import re\n",
    "\n",
    "%reload_ext autoreload\n",
    "%autoreload 2"
   ]
  },
  {
   "cell_type": "code",
   "execution_count": 2,
   "id": "3dec306b",
   "metadata": {},
   "outputs": [],
   "source": [
    "# extra stuff\n",
    "from matplotlib.ticker import FormatStrFormatter, ScalarFormatter\n",
    "import math\n",
    "from scipy.spatial import cKDTree  # For finding nearest neighbors\n",
    "\n",
    "# formatting\n",
    "formatter = ScalarFormatter(useMathText=True)\n",
    "formatter.set_powerlimits((-2, 2))  # Sets limits for when to use scientific notation"
   ]
  },
  {
   "cell_type": "code",
   "execution_count": 17,
   "id": "2ea83520",
   "metadata": {},
   "outputs": [
    {
     "data": {
      "text/plain": [
       "2"
      ]
     },
     "execution_count": 17,
     "metadata": {},
     "output_type": "execute_result"
    }
   ],
   "source": [
    "# output directory\n",
    "src_n = 3\n",
    "dataDir = f'../data.lbm/0{src_n}/'\n",
    "# dataDir = f'../src/0{src_n}/output.lbm/'\n",
    "\n",
    "# all ticks are found using regular expressions\n",
    "files = os.listdir(dataDir)\n",
    "ticks = []\n",
    "\n",
    "pattern = r'fluidTrj_(\\d+)\\.csv'\n",
    "\n",
    "for file in files:\n",
    "    match = re.search(pattern, file)\n",
    "    if match:\n",
    "        ticks.append(int(match.group(1)))\n",
    "        \n",
    "ticks.sort()\n",
    "\n",
    "len(ticks)"
   ]
  },
  {
   "cell_type": "markdown",
   "id": "445847a8",
   "metadata": {},
   "source": [
    "# Fluid"
   ]
  },
  {
   "cell_type": "code",
   "execution_count": 18,
   "id": "45aac547",
   "metadata": {},
   "outputs": [
    {
     "data": {
      "text/plain": [
       "np.float64(1731.5172413795704)"
      ]
     },
     "execution_count": 18,
     "metadata": {},
     "output_type": "execute_result"
    }
   ],
   "source": [
    "id = -1\n",
    "fluidDf = pd.read_csv(dataDir + f\"fluidTrj_{ticks[id]}.csv\").set_index([\"id_x\",\"id_y\",\"id_z\"]).sort_index()\n",
    "particleDf = pd.read_csv(dataDir+\"particlesTrj.csv\")\n",
    "particleDf.time.values[-1]"
   ]
  },
  {
   "cell_type": "code",
   "execution_count": null,
   "id": "fb62e63b",
   "metadata": {
    "scrolled": false
   },
   "outputs": [],
   "source": [
    "title = f'squirmer-bead-bead, $t = {fluidDf.time.values[-1]:0.1f}$'+' $\\\\mu \\\\mathrm{s}$'\n",
    "fig, axes = aux.fluidOverview(fluidDf, particleDf, title)\n",
    "plt.show()"
   ]
  },
  {
   "cell_type": "code",
   "execution_count": null,
   "id": "09bce6d0",
   "metadata": {},
   "outputs": [],
   "source": [
    "id = 1\n",
    "fluidDf = pd.read_csv(dataDir + f\"fluidTrj_{ticks[id]}.csv\").set_index([\"id_x\",\"id_y\"]).sort_index()\n",
    "particleDf = pd.read_csv(dataDir+\"particlesTrj.csv\")"
   ]
  },
  {
   "cell_type": "code",
   "execution_count": null,
   "id": "31caaa42",
   "metadata": {
    "scrolled": false
   },
   "outputs": [],
   "source": [
    "title = f'squirmer-bead-bead, $t = {fluidDf.time.values[-1]:0.1f}$'+' $\\\\mu \\\\mathrm{s}$'\n",
    "fig, axes = aux.fluidOverview(fluidDf, particleDf, title)\n",
    "plt.show()"
   ]
  },
  {
   "cell_type": "markdown",
   "id": "73226fce",
   "metadata": {},
   "source": [
    "# particles"
   ]
  },
  {
   "cell_type": "markdown",
   "id": "f4a9f11c",
   "metadata": {},
   "source": [
    "Due to the bonds, $\\mathbf{r}_{12}$ and $\\mathbf{r}_{23}$ must have remained roughly constant. Of course, some variation is acceptable, as well as equilibrium different to the initial conditions; everything's bound by harmonic potentials.\n",
    "\n",
    "> **Note:** $\\mathbf{r}_{ij} \\equiv \\mathbf{x}_i - \\mathbf{x}_j$ is the separation vector between particles $i$ and $j$."
   ]
  },
  {
   "cell_type": "code",
   "execution_count": 19,
   "id": "4b7ef8a3",
   "metadata": {},
   "outputs": [],
   "source": [
    "x1 = [\n",
    "    particleDf.query(\"particleId == 1\").position_x.values,\n",
    "    particleDf.query(\"particleId == 1\").position_y.values,\n",
    "    particleDf.query(\"particleId == 1\").position_z.values\n",
    "]\n",
    "x2 = [\n",
    "    particleDf.query(\"particleId == 2\").position_x.values,\n",
    "    particleDf.query(\"particleId == 2\").position_y.values,\n",
    "    particleDf.query(\"particleId == 2\").position_z.values\n",
    "]\n",
    "\n",
    "r12 = [x1[index] - x2[index] for index in np.arange(3)]\n",
    "\n",
    "latticeParameter = fluidDf.coordinate_x.unique()[1] - fluidDf.coordinate_x.unique()[0]"
   ]
  },
  {
   "cell_type": "code",
   "execution_count": 25,
   "id": "76703ba7",
   "metadata": {},
   "outputs": [
    {
     "data": {
      "image/png": "[encoded data removed]",
      "text/plain": [
       "<Figure size 900x405 with 2 Axes>"
      ]
     },
     "metadata": {},
     "output_type": "display_data"
    }
   ],
   "source": [
    "fig, axes = plt.subplots(1,2,figsize=(6,2.7))\n",
    "\n",
    "axes[0].plot(\n",
    "    particleDf.time.unique(),\n",
    "    np.sqrt(r12[0]**2 + r12[1]**2 + r12[2]**2)\n",
    ")\n",
    "# axes[0].set_ylim(1-latticeParameter, 1+latticeParameter)\n",
    "axes[0].set_xlabel(\"$t ~ (\\\\mu \\\\mathrm{s})$\")\n",
    "axes[0].set_ylabel(\"$|\\\\mathbf{r}_{12}| ~ (\\\\mu \\\\mathrm{m})$\")\n",
    "\n",
    "axes[1].plot(\n",
    "    10 * np.sin(particleDf.time.unique() * 2 * np.pi / 10),\n",
    "    10 * np.cos(particleDf.time.unique() * 2 * np.pi / 10),\n",
    "alpha = 0.2)\n",
    "axes[1].set_xlabel(\"$B_x$\")\n",
    "axes[1].set_ylabel(\"$B_z$\")\n",
    "\n",
    "plt.show()"
   ]
  },
  {
   "cell_type": "code",
   "execution_count": null,
   "id": "e57bf982",
   "metadata": {},
   "outputs": [],
   "source": [
    "fig, axes = plt.subplots(1,2,figsize=(6,2.7))\n",
    "\n",
    "axes[1].plot(\n",
    "    particleDf.time.unique(),\n",
    "    10 * [np.cos(particleDf.time.unique() * 2 * np.pi / 10), np.sin(particleDf.time.unique() * 2 * np.pi / 10)]\n",
    ")"
   ]
  },
  {
   "cell_type": "code",
   "execution_count": null,
   "id": "7642150d",
   "metadata": {},
   "outputs": [],
   "source": [
    "plt.plot(\n",
    "    particleDf.time.unique(),\n",
    "    np.acos(\n",
    "        (r12[0]*r32[0] + r12[1]*r32[1]) / (\n",
    "            np.sqrt(r12[0]*r12[0] + r12[1]*r12[1]) * np.sqrt(r12[0]*r12[0] + r12[1]*r12[1])\n",
    "        )\n",
    "        \n",
    "    ) * 180/np.pi\n",
    ")\n",
    "\n",
    "plt.xlabel(\"$t ~ (\\\\mu \\\\mathrm{s})$\")\n",
    "plt.ylabel(\"$\\\\angle \\\\mathbf{x}_1 \\\\mathbf{x}_2 \\\\mathbf{x}_3 ~ (\\\\mathrm{deg})$\")\n",
    "\n",
    "plt.show()"
   ]
  },
  {
   "cell_type": "markdown",
   "id": "df6191f1",
   "metadata": {},
   "source": [
    "# Stability analysis"
   ]
  },
  {
   "cell_type": "code",
   "execution_count": 26,
   "id": "4f84bb6f",
   "metadata": {},
   "outputs": [],
   "source": [
    "def avgSpeed(df):\n",
    "    return np.sqrt(df.fluidVelocity_x**2 + df.fluidVelocity_y**2).mean()"
   ]
  },
  {
   "cell_type": "code",
   "execution_count": 27,
   "id": "54f2cc9d",
   "metadata": {
    "scrolled": false
   },
   "outputs": [
    {
     "name": "stdout",
     "output_type": "stream",
     "text": [
      "          "
     ]
    }
   ],
   "source": [
    "try:\n",
    "    avgFluidSpeed \n",
    "except NameError:\n",
    "    avgFluidSpeed = []\n",
    "    \n",
    "try:\n",
    "    time \n",
    "except NameError:\n",
    "    time = []\n",
    "\n",
    "for tick in ticks[len(time)::]:\n",
    "    auxDf = pd.read_csv(dataDir + f\"fluidTrj_{tick}.csv\")\n",
    "    avgFluidSpeed.append(avgSpeed(auxDf))\n",
    "    time.append(auxDf.time.values[0])\n",
    "    print(f'\\r{tick}', end='', flush=True)\n",
    "print('\\r'+' '*10, end='', flush=True)"
   ]
  },
  {
   "cell_type": "code",
   "execution_count": 28,
   "id": "08980737",
   "metadata": {
    "scrolled": false
   },
   "outputs": [
    {
     "data": {
      "image/png": "[encoded data removed]",
      "text/plain": [
       "<Figure size 750x750 with 1 Axes>"
      ]
     },
     "metadata": {},
     "output_type": "display_data"
    }
   ],
   "source": [
    "fig, ax = plt.subplots(figsize = (5,5))\n",
    "\n",
    "ax.plot(time, avgFluidSpeed)\n",
    "ax.set_xlabel(\"$t ~ (\\\\mu \\\\mathrm{s})$\")\n",
    "ax.set_ylabel(\"$|u| ~ (\\\\mu \\\\mathrm{m} / \\\\mu \\\\mathrm{s})$\")\n",
    "\n",
    "plt.show()"
   ]
  },
  {
   "cell_type": "markdown",
   "id": "d56d58b1",
   "metadata": {},
   "source": [
    "# Animation"
   ]
  },
  {
   "cell_type": "code",
   "execution_count": null,
   "id": "01d8c48a",
   "metadata": {},
   "outputs": [],
   "source": [
    "# necessary directories are created\n",
    "outputDir = f\"frames.{src_n}\"\n",
    "os.system(f'mkdir -p anims')\n",
    "os.system(f'mkdir {outputDir}')\n",
    "\n",
    "# the data is read and frames are saved\n",
    "particleDf = pd.read_csv(dataDir+\"particlesTrj.csv\")\n",
    "for tickId in np.arange(len(ticks)):\n",
    "    fluidDf = pd.read_csv(dataDir + f\"fluidTrj_{ticks[tickId]}.csv\").set_index([\"id_x\",\"id_y\"]).sort_index()\n",
    "    title = f'squirmer-bead-bead, $t = {fluidDf.time.values[-1]:.0f}$'+' $\\\\mu \\\\mathrm{s}$'\n",
    "    fig, axes = aux.fluidOverview(fluidDf, particleDf, title)\n",
    "\n",
    "    plt.savefig(f\"{outputDir}/{tickId}.png\", format=\"png\", dpi=300, bbox_inches=\"tight\")\n",
    "    plt.close()\n",
    "    print(f'\\r{tickId}', end='', flush=True)\n",
    "print('\\r'+' '*10, end='', flush=True)\n",
    "\n",
    "# ffmpeg is used to create the animation\n",
    "mkAnimSh = f'ffmpeg -framerate 25 -i {outputDir}/%d.png -vf \"scale=trunc(iw/2)*2:trunc(ih/2)*2\" -c:v libx264 -pix_fmt yuv420p -loglevel quiet anims/src_0{src_n}.mp4'\n",
    "os.system(mkAnimSh)\n",
    "\n",
    "# the directory with the frames is erased\n",
    "os.system(f'rm -r {outputDir}')"
   ]
  }
 ],
 "metadata": {
  "kernelspec": {
   "display_name": "Python 3 (ipykernel)",
   "language": "python",
   "name": "python3"
  },
  "language_info": {
   "codemirror_mode": {
    "name": "ipython",
    "version": 3
   },
   "file_extension": ".py",
   "mimetype": "text/x-python",
   "name": "python",
   "nbconvert_exporter": "python",
   "pygments_lexer": "ipython3",
   "version": "3.12.3"
  }
 },
 "nbformat": 4,
 "nbformat_minor": 5
}
