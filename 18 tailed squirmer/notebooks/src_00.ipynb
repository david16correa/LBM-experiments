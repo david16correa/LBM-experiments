{
 "cells": [
  {
   "cell_type": "markdown",
   "id": "0e065718",
   "metadata": {},
   "source": [
    "# nParticles = 1\n",
    "\n",
    "This is a control for the train of particles. It's just a squirmer. One happy squirmer."
   ]
  },
  {
   "cell_type": "code",
   "execution_count": null,
   "id": "ebc7fd58",
   "metadata": {},
   "outputs": [],
   "source": [
    "import numpy as np\n",
    "import matplotlib as mpl\n",
    "import matplotlib.pyplot as plt\n",
    "import pandas as pd\n",
    "import copy\n",
    "import auxiliary as aux\n",
    "\n",
    "mpl.rc(\"figure\", dpi=150)\n",
    "mpl.rc(\"figure\", figsize=(4,4))\n",
    "\n",
    "plt.rcParams.update({\n",
    "    \"pgf.texsystem\": \"pdflatex\",\n",
    "    'font.family': 'serif',\n",
    "    'text.usetex': True,\n",
    "    'pgf.rcfonts': False,\n",
    "    'xtick.labelsize':15,\n",
    "    'ytick.labelsize':15,\n",
    "    'axes.labelsize':20,\n",
    "})\n",
    "\n",
    "import os\n",
    "import re\n",
    "\n",
    "%reload_ext autoreload\n",
    "%autoreload 2"
   ]
  },
  {
   "cell_type": "code",
   "execution_count": null,
   "id": "e6e05b45",
   "metadata": {},
   "outputs": [],
   "source": [
    "# extra stuff\n",
    "from matplotlib.ticker import FormatStrFormatter, ScalarFormatter\n",
    "import math\n",
    "from scipy.spatial import cKDTree  # For finding nearest neighbors\n",
    "\n",
    "# formatting\n",
    "formatter = ScalarFormatter(useMathText=True)\n",
    "formatter.set_powerlimits((-2, 2))  # Sets limits for when to use scientific notation"
   ]
  },
  {
   "cell_type": "code",
   "execution_count": null,
   "id": "7e502b89",
   "metadata": {},
   "outputs": [],
   "source": [
    "# output directory\n",
    "src_n = 0\n",
    "dataDir = f'../data.lbm/0{src_n}/'\n",
    "# dataDir = f'../src/{src_n}/output.lbm/'\n",
    "\n",
    "# all ticks are found using regular expressions\n",
    "files = os.listdir(dataDir)\n",
    "ticks = []\n",
    "\n",
    "pattern = r'fluidTrj_(\\d+)\\.csv'\n",
    "\n",
    "for file in files:\n",
    "    match = re.search(pattern, file)\n",
    "    if match:\n",
    "        ticks.append(int(match.group(1)))\n",
    "        \n",
    "ticks.sort()\n",
    "\n",
    "len(ticks)"
   ]
  },
  {
   "cell_type": "markdown",
   "id": "c1ac4997",
   "metadata": {},
   "source": [
    "# Fluid"
   ]
  },
  {
   "cell_type": "code",
   "execution_count": null,
   "id": "792a5401",
   "metadata": {},
   "outputs": [],
   "source": [
    "id = -1\n",
    "fluidDf = pd.read_csv(dataDir + f\"fluidTrj_{ticks[id]}.csv\").set_index([\"id_x\",\"id_y\"]).sort_index()\n",
    "particleDf = pd.read_csv(dataDir+\"particlesTrj.csv\")"
   ]
  },
  {
   "cell_type": "code",
   "execution_count": null,
   "id": "497f3943",
   "metadata": {
    "scrolled": false
   },
   "outputs": [],
   "source": [
    "title = f'$t = {fluidDf.time.values[-1]:0.1f}$'+' $\\\\mu \\\\mathrm{s}$'\n",
    "# fig, axes = aux.fluidOverview(fluidDf, particleDf, title)\n",
    "fig, axes = aux.fluidOverview(\n",
    "    fluidDf.query(\"(coordinate_x-10)**2 < 20**2 and coordinate_y**2 < 20**2\"),\n",
    "    particleDf, \n",
    "    title,\n",
    ")\n",
    "plt.show()"
   ]
  },
  {
   "cell_type": "markdown",
   "id": "fc8b0a63",
   "metadata": {},
   "source": [
    "# particles"
   ]
  },
  {
   "cell_type": "markdown",
   "id": "06bc8188",
   "metadata": {},
   "source": [
    "The interactions between the particles are:\n",
    "- a linear bond for each train link\n",
    "- WCA potentials\n",
    "\n",
    "So the distance between them must remain fairly constant."
   ]
  },
  {
   "cell_type": "code",
   "execution_count": null,
   "id": "01fa8a09",
   "metadata": {},
   "outputs": [],
   "source": [
    "nParticles = len(particleDf.particleId.unique())\n",
    "particleTime = particleDf.time.unique()"
   ]
  },
  {
   "cell_type": "code",
   "execution_count": null,
   "id": "72ed65e1",
   "metadata": {},
   "outputs": [],
   "source": [
    "fig, axes = plt.subplots(1,2,figsize=(6,2.7))\n",
    "\n",
    "for Id in np.arange(nParticles):\n",
    "    axes[0].plot(particleTime, particleDf.query(f\"particleId == {Id+1}\").position_x.values, )\n",
    "axes[0].set_title(\"position -- $x$\")\n",
    "    \n",
    "for Id in np.arange(nParticles):\n",
    "    axes[1].plot(particleTime, np.sqrt(\n",
    "            particleDf.query(f\"particleId == {Id+1}\").velocity_x.values**2 + \n",
    "            particleDf.query(f\"particleId == {Id+1}\").velocity_y.values**2\n",
    "        )\n",
    "    )\n",
    "axes[1].set_title(\"speed -- $|\\\\mathbf{u}|$\")\n",
    "axes[1].set_ylim(0,1e-3)\n",
    "axes[1].yaxis.tick_right()  # Moves y-axis ticks to the right\n",
    "axes[1].set_yticks([0, 0.5e-3, 1e-3])\n",
    "axes[1].set_yticklabels([\"0\", \"\", \"$10^{-3}$\"])\n",
    "    \n",
    "plt.show()"
   ]
  },
  {
   "cell_type": "markdown",
   "id": "c86e19c2",
   "metadata": {},
   "source": [
    "# Stability analysis"
   ]
  },
  {
   "cell_type": "code",
   "execution_count": null,
   "id": "d4e0e9f0",
   "metadata": {},
   "outputs": [],
   "source": [
    "def avgSpeed(df):\n",
    "    return np.sqrt(df.fluidVelocity_x**2 + df.fluidVelocity_y**2).mean()"
   ]
  },
  {
   "cell_type": "code",
   "execution_count": null,
   "id": "be71fcfd",
   "metadata": {
    "scrolled": false
   },
   "outputs": [],
   "source": [
    "try:\n",
    "    avgFluidSpeed \n",
    "except NameError:\n",
    "    avgFluidSpeed = []\n",
    "    \n",
    "try:\n",
    "    time \n",
    "except NameError:\n",
    "    time = []\n",
    "\n",
    "for tick in ticks[len(time)::]:\n",
    "    auxDf = pd.read_csv(dataDir + f\"fluidTrj_{tick}.csv\")\n",
    "    avgFluidSpeed.append(avgSpeed(auxDf))\n",
    "    time.append(auxDf.time.values[0])\n",
    "    print(f'\\r{tick}', end='', flush=True)\n",
    "print('\\r'+' '*10, end='', flush=True)"
   ]
  },
  {
   "cell_type": "code",
   "execution_count": null,
   "id": "eb083185",
   "metadata": {
    "scrolled": false
   },
   "outputs": [],
   "source": [
    "fig, ax = plt.subplots(figsize=(3,2.7))\n",
    "\n",
    "ax.plot(time, avgFluidSpeed)\n",
    "ax.set_xlabel(\"$t ~ (\\\\mu \\\\mathrm{s})$\")\n",
    "ax.set_ylabel(\"$|u| ~ (\\\\mu \\\\mathrm{m} / \\\\mu \\\\mathrm{s})$\")\n",
    "\n",
    "plt.show()"
   ]
  },
  {
   "cell_type": "markdown",
   "id": "dec43305",
   "metadata": {},
   "source": [
    "# Animation"
   ]
  },
  {
   "cell_type": "code",
   "execution_count": null,
   "id": "eb7c0183",
   "metadata": {},
   "outputs": [],
   "source": [
    "# necessary directories are created\n",
    "outputDir = f\"frames.{src_n}\"\n",
    "os.system(f'mkdir -p anims')\n",
    "os.system(f'mkdir {outputDir}')\n",
    "\n",
    "# the data is read and frames are saved\n",
    "particleDf = pd.read_csv(dataDir+\"particlesTrj.csv\")\n",
    "for tickId in np.arange(len(ticks)):\n",
    "    fluidDf = pd.read_csv(dataDir + f\"fluidTrj_{ticks[tickId]}.csv\").set_index([\"id_x\",\"id_y\"]).sort_index()\n",
    "    title = f'$t = {fluidDf.time.values[-1]:.0f}$'+' $\\\\mu \\\\mathrm{s}$'\n",
    "    fig, axes = aux.fluidOverview(fluidDf.query(\"coordinate_x**2 < 20**2 and coordinate_y**2 < 20**2\"), particleDf, title)\n",
    "\n",
    "    plt.savefig(f\"{outputDir}/{tickId}.png\", format=\"png\", dpi=300, bbox_inches=\"tight\")\n",
    "    plt.close()\n",
    "    print(f'\\r{tickId}', end='', flush=True)\n",
    "print('\\r'+' '*10, end='', flush=True)\n",
    "\n",
    "# ffmpeg is used to create the animation\n",
    "mkAnimSh = f'ffmpeg -framerate 20 -i {outputDir}/%d.png -vf \"scale=trunc(iw/2)*2:trunc(ih/2)*2\" -c:v libx264 -pix_fmt yuv420p -loglevel quiet anims/src_{src_n}.mp4'\n",
    "os.system(mkAnimSh)\n",
    "\n",
    "# the directory with the frames is erased\n",
    "os.system(f'rm -r {outputDir}')"
   ]
  }
 ],
 "metadata": {
  "kernelspec": {
   "display_name": "Python 3 (ipykernel)",
   "language": "python",
   "name": "python3"
  },
  "language_info": {
   "codemirror_mode": {
    "name": "ipython",
    "version": 3
   },
   "file_extension": ".py",
   "mimetype": "text/x-python",
   "name": "python",
   "nbconvert_exporter": "python",
   "pygments_lexer": "ipython3",
   "version": "3.12.3"
  }
 },
 "nbformat": 4,
 "nbformat_minor": 5
}
